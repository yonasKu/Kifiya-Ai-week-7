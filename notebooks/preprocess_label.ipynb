{
 "cells": [
  {
   "cell_type": "code",
   "execution_count": null,
   "metadata": {},
   "outputs": [],
   "source": []
  },
  {
   "cell_type": "markdown",
   "metadata": {},
   "source": []
  },
  {
   "cell_type": "code",
   "execution_count": 1,
   "metadata": {},
   "outputs": [],
   "source": [
    "# Importing necessary libraries\n",
    "import pandas as pd\n",
    "import numpy as np\n",
    "\n",
    "\n",
    "\n",
    "\n",
    "file_path = '../telegram_data.csv'"
   ]
  },
  {
   "cell_type": "code",
   "execution_count": 2,
   "metadata": {},
   "outputs": [],
   "source": [
    "df = pd.read_csv(file_path)"
   ]
  },
  {
   "cell_type": "code",
   "execution_count": null,
   "metadata": {},
   "outputs": [],
   "source": [
    "df"
   ]
  },
  {
   "cell_type": "code",
   "execution_count": 3,
   "metadata": {},
   "outputs": [
    {
     "name": "stdout",
     "output_type": "stream",
     "text": [
      "Checking for NaN values in the 'Message' column:\n",
      "Number of NaN values in 'Message' column: 139\n"
     ]
    }
   ],
   "source": [
    "print(\"Checking for NaN values in the 'Message' column:\")\n",
    "nan_count = df['Message'].isnull().sum()\n",
    "print(f\"Number of NaN values in 'Message' column: {nan_count}\")"
   ]
  },
  {
   "cell_type": "code",
   "execution_count": 4,
   "metadata": {},
   "outputs": [
    {
     "name": "stdout",
     "output_type": "stream",
     "text": [
      "Dataset shape after dropping NaN values in 'Message' column: (157, 6)\n"
     ]
    }
   ],
   "source": [
    "\n",
    "\n",
    "df = df.dropna(subset=['Message'])\n",
    "\n",
    "# Print the shape of the dataset after dropping NaN values in the \"Message\" column\n",
    "print(f\"Dataset shape after dropping NaN values in 'Message' column: {df.shape}\")"
   ]
  },
  {
   "cell_type": "code",
   "execution_count": 5,
   "metadata": {},
   "outputs": [
    {
     "data": {
      "text/html": [
       "<div>\n",
       "<style scoped>\n",
       "    .dataframe tbody tr th:only-of-type {\n",
       "        vertical-align: middle;\n",
       "    }\n",
       "\n",
       "    .dataframe tbody tr th {\n",
       "        vertical-align: top;\n",
       "    }\n",
       "\n",
       "    .dataframe thead th {\n",
       "        text-align: right;\n",
       "    }\n",
       "</style>\n",
       "<table border=\"1\" class=\"dataframe\">\n",
       "  <thead>\n",
       "    <tr style=\"text-align: right;\">\n",
       "      <th></th>\n",
       "      <th>Channel Title</th>\n",
       "      <th>Channel Username</th>\n",
       "      <th>ID</th>\n",
       "      <th>Message</th>\n",
       "      <th>Date</th>\n",
       "      <th>Media Path</th>\n",
       "    </tr>\n",
       "  </thead>\n",
       "  <tbody>\n",
       "    <tr>\n",
       "      <th>0</th>\n",
       "      <td>Zemen Express®</td>\n",
       "      <td>https://t.me/ZemenExpress</td>\n",
       "      <td>5352</td>\n",
       "      <td>💥💥...................................💥💥\\n\\n📌Mu...</td>\n",
       "      <td>2024-09-30T09:20:55+00:00</td>\n",
       "      <td>photos\\httpstmeZemenExpress_5352jpg</td>\n",
       "    </tr>\n",
       "    <tr>\n",
       "      <th>1</th>\n",
       "      <td>Zemen Express®</td>\n",
       "      <td>https://t.me/ZemenExpress</td>\n",
       "      <td>5351</td>\n",
       "      <td>💥💥...................................💥💥\\n\\n📌Mu...</td>\n",
       "      <td>2024-09-30T09:20:47+00:00</td>\n",
       "      <td>photos\\httpstmeZemenExpress_5351jpg</td>\n",
       "    </tr>\n",
       "    <tr>\n",
       "      <th>6</th>\n",
       "      <td>Zemen Express®</td>\n",
       "      <td>https://t.me/ZemenExpress</td>\n",
       "      <td>5346</td>\n",
       "      <td>💥💥...................................💥💥\\n\\n📌Mu...</td>\n",
       "      <td>2024-09-30T09:20:43+00:00</td>\n",
       "      <td>photos\\httpstmeZemenExpress_5346jpg</td>\n",
       "    </tr>\n",
       "    <tr>\n",
       "      <th>11</th>\n",
       "      <td>Zemen Express®</td>\n",
       "      <td>https://t.me/ZemenExpress</td>\n",
       "      <td>5341</td>\n",
       "      <td>💥💥...................................💥💥\\n\\n📌 K...</td>\n",
       "      <td>2024-09-29T08:17:03+00:00</td>\n",
       "      <td>photos\\httpstmeZemenExpress_5341jpg</td>\n",
       "    </tr>\n",
       "    <tr>\n",
       "      <th>12</th>\n",
       "      <td>Zemen Express®</td>\n",
       "      <td>https://t.me/ZemenExpress</td>\n",
       "      <td>5340</td>\n",
       "      <td>💥💥...............🌞.................💥💥\\n\\n❓ በረፍ...</td>\n",
       "      <td>2024-09-28T16:44:37+00:00</td>\n",
       "      <td>photos\\httpstmeZemenExpress_5340jpg</td>\n",
       "    </tr>\n",
       "  </tbody>\n",
       "</table>\n",
       "</div>"
      ],
      "text/plain": [
       "     Channel Title           Channel Username    ID  \\\n",
       "0   Zemen Express®  https://t.me/ZemenExpress  5352   \n",
       "1   Zemen Express®  https://t.me/ZemenExpress  5351   \n",
       "6   Zemen Express®  https://t.me/ZemenExpress  5346   \n",
       "11  Zemen Express®  https://t.me/ZemenExpress  5341   \n",
       "12  Zemen Express®  https://t.me/ZemenExpress  5340   \n",
       "\n",
       "                                              Message  \\\n",
       "0   💥💥...................................💥💥\\n\\n📌Mu...   \n",
       "1   💥💥...................................💥💥\\n\\n📌Mu...   \n",
       "6   💥💥...................................💥💥\\n\\n📌Mu...   \n",
       "11  💥💥...................................💥💥\\n\\n📌 K...   \n",
       "12  💥💥...............🌞.................💥💥\\n\\n❓ በረፍ...   \n",
       "\n",
       "                         Date                           Media Path  \n",
       "0   2024-09-30T09:20:55+00:00  photos\\httpstmeZemenExpress_5352jpg  \n",
       "1   2024-09-30T09:20:47+00:00  photos\\httpstmeZemenExpress_5351jpg  \n",
       "6   2024-09-30T09:20:43+00:00  photos\\httpstmeZemenExpress_5346jpg  \n",
       "11  2024-09-29T08:17:03+00:00  photos\\httpstmeZemenExpress_5341jpg  \n",
       "12  2024-09-28T16:44:37+00:00  photos\\httpstmeZemenExpress_5340jpg  "
      ]
     },
     "execution_count": 5,
     "metadata": {},
     "output_type": "execute_result"
    }
   ],
   "source": [
    "df.head()"
   ]
  },
  {
   "cell_type": "code",
   "execution_count": 6,
   "metadata": {},
   "outputs": [
    {
     "data": {
      "text/plain": [
       "0      💥💥...................................💥💥\\n\\n📌Mu...\n",
       "1      💥💥...................................💥💥\\n\\n📌Mu...\n",
       "6      💥💥...................................💥💥\\n\\n📌Mu...\n",
       "11     💥💥...................................💥💥\\n\\n📌 K...\n",
       "12     💥💥...............🌞.................💥💥\\n\\n❓ በረፍ...\n",
       "                             ...                        \n",
       "284    💥💥....................................💥💥\\n\\n📌 ...\n",
       "289    💥💥...................................💥💥\\n\\n🎯Ki...\n",
       "290    💥💥...................................💥💥\\n\\n📌Sp...\n",
       "291    💥💥...................................💥💥\\n\\n📌Sp...\n",
       "295    💥💥...................................💥💥\\n\\n📌 A...\n",
       "Name: Message, Length: 157, dtype: object"
      ]
     },
     "execution_count": 6,
     "metadata": {},
     "output_type": "execute_result"
    }
   ],
   "source": [
    "message_df=df['Message']\n",
    "message_df"
   ]
  },
  {
   "cell_type": "code",
   "execution_count": 7,
   "metadata": {},
   "outputs": [
    {
     "name": "stdout",
     "output_type": "stream",
     "text": [
      "     Channel Title           Channel Username    ID  \\\n",
      "0   Zemen Express®  https://t.me/ZemenExpress  5352   \n",
      "1   Zemen Express®  https://t.me/ZemenExpress  5351   \n",
      "6   Zemen Express®  https://t.me/ZemenExpress  5346   \n",
      "11  Zemen Express®  https://t.me/ZemenExpress  5341   \n",
      "12  Zemen Express®  https://t.me/ZemenExpress  5340   \n",
      "\n",
      "                                              Message  \\\n",
      "0   ...................................\\n\\nMulti-p...   \n",
      "1   ...................................\\n\\nMulti-p...   \n",
      "6   ...................................\\n\\nMulti-p...   \n",
      "11  ...................................\\n\\n Kemei ...   \n",
      "12  ................................\\n\\n በረፍት ቀንዎ ...   \n",
      "\n",
      "                         Date                           Media Path  \n",
      "0   2024-09-30T09:20:55+00:00  photos\\httpstmeZemenExpress_5352jpg  \n",
      "1   2024-09-30T09:20:47+00:00  photos\\httpstmeZemenExpress_5351jpg  \n",
      "6   2024-09-30T09:20:43+00:00  photos\\httpstmeZemenExpress_5346jpg  \n",
      "11  2024-09-29T08:17:03+00:00  photos\\httpstmeZemenExpress_5341jpg  \n",
      "12  2024-09-28T16:44:37+00:00  photos\\httpstmeZemenExpress_5340jpg  \n"
     ]
    }
   ],
   "source": [
    "import re\n",
    "\n",
    "# Define a function to remove emojis\n",
    "def remove_emojis(text):\n",
    "    emoji_pattern = re.compile(\n",
    "        \"[\" \n",
    "        \"\\U0001F600-\\U0001F64F\"  # emoticons\n",
    "        \"\\U0001F300-\\U0001F5FF\"  # symbols & pictographs\n",
    "        \"\\U0001F680-\\U0001F6FF\"  # transport & map symbols\n",
    "        \"\\U0001F700-\\U0001F77F\"  # alchemical symbols\n",
    "        \"\\U0001F780-\\U0001F7FF\"  # Geometric Shapes Extended\n",
    "        \"\\U0001F800-\\U0001F8FF\"  # Supplemental Arrows-C\n",
    "        \"\\U0001F900-\\U0001F9FF\"  # Supplemental Symbols and Pictographs\n",
    "        \"\\U0001FA00-\\U0001FA6F\"  # Chess Symbols\n",
    "        \"\\U0001FA70-\\U0001FAFF\"  # Symbols and Pictographs Extended-A\n",
    "        \"\\U00002702-\\U000027B0\"  # Dingbats\n",
    "        \"\\U000024C2-\\U0001F251\" \n",
    "        \"]+\", \n",
    "        flags=re.UNICODE\n",
    "    )\n",
    "    return emoji_pattern.sub(r'', text)\n",
    "\n",
    "# Apply the function to the 'Message' column\n",
    "df['Message'] = df['Message'].apply(remove_emojis)\n",
    "\n",
    "# Display the updated DataFrame\n",
    "print(df.head())\n"
   ]
  },
  {
   "cell_type": "markdown",
   "metadata": {},
   "source": []
  },
  {
   "cell_type": "code",
   "execution_count": 8,
   "metadata": {},
   "outputs": [
    {
     "name": "stdout",
     "output_type": "stream",
     "text": [
      "     Channel Title           Channel Username    ID  \\\n",
      "0   Zemen Express®  https://t.me/ZemenExpress  5352   \n",
      "1   Zemen Express®  https://t.me/ZemenExpress  5351   \n",
      "6   Zemen Express®  https://t.me/ZemenExpress  5346   \n",
      "11  Zemen Express®  https://t.me/ZemenExpress  5341   \n",
      "12  Zemen Express®  https://t.me/ZemenExpress  5340   \n",
      "\n",
      "                                              Message  \\\n",
      "0   ባለብዙጥቅም የመስታወት ጎድጓዳ ሳህኖች ከ ብርጭቆ የተሰራ ለቤተዎ ተጨማሪ...   \n",
      "1   ባለብዙጥቅም የመስታወት ጎድጓዳ ሳህኖች ከ ብርጭቆ የተሰራ ለቤተዎ ተጨማሪ...   \n",
      "6   ባለብዙጥቅም የመስታወት ጎድጓዳ ሳህኖች ከ ብርጭቆ የተሰራ ለቤተዎ ተጨማሪ...   \n",
      "11  ከ 80 እስከ 220 ሙቀት ያለው 360 የሚሽከረከር ለሁሉም የፀጉር አይነ...   \n",
      "12  በረፍት ቀንዎ ሱቅ ላይ መስተናገድ ለምትፈልጉ ውድ ደንበኞቻችን ነገ ከጠዋ...   \n",
      "\n",
      "                         Date                           Media Path  \n",
      "0   2024-09-30T09:20:55+00:00  photos\\httpstmeZemenExpress_5352jpg  \n",
      "1   2024-09-30T09:20:47+00:00  photos\\httpstmeZemenExpress_5351jpg  \n",
      "6   2024-09-30T09:20:43+00:00  photos\\httpstmeZemenExpress_5346jpg  \n",
      "11  2024-09-29T08:17:03+00:00  photos\\httpstmeZemenExpress_5341jpg  \n",
      "12  2024-09-28T16:44:37+00:00  photos\\httpstmeZemenExpress_5340jpg  \n"
     ]
    }
   ],
   "source": [
    "def preprocess_message(message):\n",
    "    # Use regex to retain only Amharic characters, numbers, and spaces\n",
    "    message = re.sub(r'[^\\u1200-\\u137F0-9\\s]', '', message)  # Retain Amharic characters and numbers\n",
    "    message = re.sub(r'\\s+', ' ', message)  # Replace multiple spaces with one\n",
    "    \n",
    "    return message.strip()\n",
    "\n",
    "# Apply the preprocessing function to the 'Message' column\n",
    "df['Message'] = df['Message'].apply(preprocess_message)\n",
    "\n",
    "# Display the DataFrame\n",
    "print(df.head())"
   ]
  },
  {
   "cell_type": "code",
   "execution_count": null,
   "metadata": {},
   "outputs": [],
   "source": []
  },
  {
   "cell_type": "code",
   "execution_count": 9,
   "metadata": {},
   "outputs": [],
   "source": [
    "df.to_csv('clean_data.csv')"
   ]
  },
  {
   "cell_type": "code",
   "execution_count": 16,
   "metadata": {},
   "outputs": [],
   "source": [
    "df = pd.read_csv('clean_data.csv', encoding='utf-8')"
   ]
  },
  {
   "cell_type": "code",
   "execution_count": null,
   "metadata": {},
   "outputs": [],
   "source": [
    "\n",
    "df.columns = df.columns.str.strip()\n",
    "\n",
    "# Check for missing values\n",
    "print(df.isnull().sum())\n",
    "\n",
    "# Drop rows with missing values (if applicable)\n",
    "df = df.dropna()\n",
    "\n",
    "# Display the cleaned DataFrame\n",
    "print(df.head())"
   ]
  },
  {
   "cell_type": "markdown",
   "metadata": {},
   "source": [
    "\n",
    "df.columns = df.columns.str.strip()\n",
    "\n",
    "# Check for missing values\n",
    "print(df.isnull().sum())\n",
    "\n",
    "# Drop rows with missing values (if applicable)\n",
    "df = df.dropna()\n",
    "\n",
    "# Display the cleaned DataFrame\n",
    "print(df.head())"
   ]
  },
  {
   "cell_type": "code",
   "execution_count": null,
   "metadata": {},
   "outputs": [],
   "source": [
    "# import re\n",
    "# import pandas as pd\n",
    "\n",
    "# def label_message_utf8_with_birr(message):\n",
    "#     # Tokenize the message\n",
    "#     tokens = re.findall(r'\\S+', message)\n",
    "    \n",
    "#     final_labeled_tokens = []\n",
    "#     found_price_or_loc = False  # Flag to indicate when we find the first price or location\n",
    "\n",
    "#     # Predefined location keywords\n",
    "#     loc_keywords = {\n",
    "#         'ቁ2ፒያሳ', 'ቁ1መገናኛ', 'ጊዮርጊስ አደባባይ', 'ፒያሳ', \n",
    "#         'ቅርንጫፍ', 'መሰረት ደፋር ሞል', 'ጊዮርጊስ', \n",
    "#         'አደባባይ', 'ራመትታቦርኦዳህንፃ', 'መሰረት', 'ደፋር', 'ሞል'\n",
    "#     }\n",
    "\n",
    "#     # Iterate through tokens\n",
    "#     for i, token in enumerate(tokens):\n",
    "#         # Default label is O\n",
    "#         final_label = 'O'\n",
    "\n",
    "#         # If price or location has already been found\n",
    "#         if found_price_or_loc:\n",
    "#             # Keep checking for new price or location\n",
    "#             if re.match(r'^[\\d,]+(\\.\\d{1,2})?$', token):  # Numeric check with commas and decimals\n",
    "#                 price_before = (i > 0 and tokens[i - 1] in {'ETB', 'ዋጋ', '$', 'ብር'})\n",
    "#                 price_after = (i < len(tokens) - 1 and tokens[i + 1] in {'ETB', 'ዋጋ', '$', 'ብር'})\n",
    "#                 if price_before or price_after:\n",
    "#                     final_label = 'I-PRICE'\n",
    "#             elif token in loc_keywords or any(loc in token for loc in loc_keywords):\n",
    "#                 final_label = 'I-LOC'\n",
    "\n",
    "#             # After first location/price, everything not `I-PRICE` or `I-LOC` is `O`\n",
    "#             final_labeled_tokens.append(f\"{token} {final_label}\")\n",
    "#             continue\n",
    "\n",
    "#         # Check if the token is a price (before a price or location is found)\n",
    "#         if re.match(r'^[\\d,]+(\\.\\d{1,2})?$', token):  # Numeric check with commas and decimals\n",
    "#             price_before = (i > 0 and tokens[i - 1] in {'ETB', 'ዋጋ','ዋጋ፦', '$', 'ብር'})\n",
    "#             price_after = (i < len(tokens) - 1 and tokens[i + 1] in {'ETB', 'ዋጋ', '$', 'ብር'})\n",
    "#             if price_before or price_after:\n",
    "#                 final_label = 'I-PRICE'\n",
    "#                 found_price_or_loc = True  # Set flag after finding the first price\n",
    "\n",
    "#         # Check if the token is a location (before a price or location is found)\n",
    "#         elif token in loc_keywords or any(loc in token for loc in loc_keywords):\n",
    "#             final_label = 'I-LOC'\n",
    "#             found_price_or_loc = True  # Set flag after finding the first location\n",
    "\n",
    "#         # If the token is neither a price nor a location, label it as a product initially\n",
    "#         if final_label == 'O':\n",
    "#             if i == 0:\n",
    "#                 final_label = 'B-PRODUCT'\n",
    "#             else:\n",
    "#                 final_label = 'I-PRODUCT'\n",
    "\n",
    "#         # Append the labeled token to the final list\n",
    "#         final_labeled_tokens.append(f\"{token} {final_label}\")\n",
    "\n",
    "#     return \"\\n\".join(final_labeled_tokens)\n",
    "\n",
    "\n",
    "\n",
    "\n",
    "# # Apply the updated function to the messages in the DataFrame\n",
    "# df['Labeled_Message'] = df['Message'].apply(label_message_utf8_with_birr)\n",
    "\n",
    "# # Display the updated DataFrame with labeled messages\n",
    "# print(df[['Message', 'Labeled_Message']].head())\n"
   ]
  },
  {
   "cell_type": "code",
   "execution_count": 19,
   "metadata": {},
   "outputs": [
    {
     "name": "stdout",
     "output_type": "stream",
     "text": [
      "                                             Message  \\\n",
      "0  ባለብዙጥቅም የመስታወት ጎድጓዳ ሳህኖች ከ ብርጭቆ የተሰራ ለቤተዎ ተጨማሪ...   \n",
      "1  ባለብዙጥቅም የመስታወት ጎድጓዳ ሳህኖች ከ ብርጭቆ የተሰራ ለቤተዎ ተጨማሪ...   \n",
      "2  ባለብዙጥቅም የመስታወት ጎድጓዳ ሳህኖች ከ ብርጭቆ የተሰራ ለቤተዎ ተጨማሪ...   \n",
      "3  ከ 80 እስከ 220 ሙቀት ያለው 360 የሚሽከረከር ለሁሉም የፀጉር አይነ...   \n",
      "4  በረፍት ቀንዎ ሱቅ ላይ መስተናገድ ለምትፈልጉ ውድ ደንበኞቻችን ነገ ከጠዋ...   \n",
      "\n",
      "                                     Labeled_Message  \n",
      "0  ባለብዙጥቅም O\\nየመስታወት O\\nጎድጓዳ O\\nሳህኖች O\\nከ O\\nብርጭቆ...  \n",
      "1  ባለብዙጥቅም O\\nየመስታወት O\\nጎድጓዳ O\\nሳህኖች O\\nከ O\\nብርጭቆ...  \n",
      "2  ባለብዙጥቅም O\\nየመስታወት O\\nጎድጓዳ O\\nሳህኖች O\\nከ O\\nብርጭቆ...  \n",
      "3  ከ O\\n80 O\\nእስከ O\\n220 O\\nሙቀት O\\nያለው O\\n360 O\\n...  \n",
      "4  በረፍት O\\nቀንዎ O\\nሱቅ O\\nላይ O\\nመስተናገድ O\\nለምትፈልጉ O\\...  \n"
     ]
    }
   ],
   "source": [
    "import re\n",
    "import pandas as pd\n",
    "\n",
    "def label_message_utf8_with_birr(message):\n",
    "    # Tokenize the message\n",
    "    tokens = re.findall(r'\\S+', message)\n",
    "    \n",
    "    # Prepare to store the final labels\n",
    "    final_labels = ['O'] * len(tokens)\n",
    "    \n",
    "    # Predefined location keywords\n",
    "    loc_keywords = {\n",
    "        'ቁ2ፒያሳ', 'ቁ1መገናኛ', 'ጊዮርጊስ አደባባይ', 'ፒያሳ', \n",
    "        'ቅርንጫፍ', 'መሰረት ደፋር ሞል', 'ጊዮርጊስ', \n",
    "        'አደባባይ', 'ራመትታቦርኦዳህንፃ', 'መሰረት', 'ደፋር', 'ሞል',\n",
    "        'ጀሞ', 'መሳለሚያ', 'ካራ', 'ወይራ ሰፈር', 'ዮሃንስ', \n",
    "        'ጨርቆስ', 'አዲስ ከተማ', 'አፍንጮ በር', 'እንጦጦ', \n",
    "        'መካኒሳ', 'አያት', 'ሜክሲኮ', 'ፈረንሳይ', 'ሸጎሌ', \n",
    "        'ቦሌ', 'አያት', 'አለም ባንክ', 'ጎተራ', 'በላይ', \n",
    "        'ቦሌ ሚካኤል', 'ልደታ', 'ሆለታ', 'ከሚሴ', 'ለገሐር', \n",
    "        'ኮልፌ', 'ጉለሌ', 'ቀጨኔ', 'አሮጌ ተራ', 'ፈስ ዕዳ', \n",
    "        '4 ኪሎ', 'አራት ኪሎ', 'ሳሪስ', 'ሪቼይ', 'አውቶቢስ ተራ', \n",
    "        'ቄራ', 'የካ', 'ላም በረት', 'አየር ጤና', 'ሽሮ ሜዳ', \n",
    "        'ቀበና', 'መገናኛ', '22', 'ሀያ ሁለት', 'ቃሊቲ', \n",
    "        '4 ኪሎ ሰባተኛ', 'ፓስተር', 'አስኮ', 'ወሎ ሰፈር', \n",
    "        'ቀራንዮ', 'ወይራ ሰፈር', 'ካራ ቆሬ', 'ዊንግት', \n",
    "        'ቦሌ መዳህኔዓለም', 'ላፍቶ', 'መካኒሳ', 'ልደታ', \n",
    "        'አቦሬ', '6 ኪሎ', 'ስድስት ኪሎ', 'ኦሎምፒያ', \n",
    "        'መስቀል ፍላወር', 'ጎጃም በረንዳ', 'አምባሳደር', \n",
    "        'ዮሴፍ', 'ሸለታ', 'ጉርድ ሾላ', 'ገዳም ሰፈር', \n",
    "        'ለገሐር', 'ላንቻ', 'ኡራኤል', 'ጦር ሐይሎች', \n",
    "        'በሸሌይ', 'ስታዲየም', 'ሳር ቤት', 'ጋዜቦ', \n",
    "        'ይሽይ ደበሌ', 'በቅሎ ቤት', 'ፍል ወሃ', 'መነን', \n",
    "        'ቀጨኔ ሸለታ', 'ቺቺኒያ', 'አትላስ', 'ብስራተ ገብርኤል', \n",
    "        'መሿለኪያ', 'ኮልፌ', 'አራዳ', 'ንፋስ ስልክ', \n",
    "        'ቂርቆስ', 'ፒያሳ', 'ሰሜን ማዘጋጃ', 'ገርጂ ሰባተኛ', \n",
    "        'መርካቶ', 'አዲሱ ገበያ', 'አቃቂ ቃሊቲ', \n",
    "        'ኮልፌ ቀራንይዮ', 'ኢምፔሪያል', '4ኪሎ'\n",
    "    }\n",
    "    \n",
    "    # Iterate through tokens\n",
    "    for i, token in enumerate(tokens):\n",
    "        # Check for price\n",
    "        if re.match(r'^[\\d,]+(\\.\\d{1,2})?$', token):  # Numeric check with commas and decimals\n",
    "            price_before = (i > 0 and tokens[i - 1] in {'ETB', 'ዋጋ', '$', 'ብር'})\n",
    "            price_after = (i < len(tokens) - 1 and tokens[i + 1] in {'ETB', 'ዋጋ', '$', 'ብር'})\n",
    "            if price_before or price_after:\n",
    "                final_labels[i] = 'I-PRICE'\n",
    "                \n",
    "                # Label previous tokens as I-PRODUCT\n",
    "                for j in range(i - 1, -1, -1):  # Backtrack from the price\n",
    "                    if final_labels[j] == 'O':\n",
    "                        final_labels[j] = 'I-PRODUCT'\n",
    "                    else:\n",
    "                        break  # Stop if we hit a non-O label\n",
    "        \n",
    "        # Check if the token is the term ዋጋ\n",
    "        elif token == 'ዋጋ፦':\n",
    "            final_labels[i] = 'B-PRICE'\n",
    "            # Label previous tokens as I-PRODUCT\n",
    "            for j in range(i - 1, -1, -1):  # Backtrack from ዋጋ\n",
    "                if final_labels[j] == 'O':\n",
    "                    final_labels[j] = 'I-PRODUCT'\n",
    "                else:\n",
    "                    break  # Stop if we hit a non-O label\n",
    "\n",
    "        # Check if the token is a location\n",
    "        elif token in loc_keywords or any(loc in token for loc in loc_keywords):\n",
    "            final_labels[i] = 'I-LOC'\n",
    "\n",
    "    # Combine tokens with their final labels\n",
    "    labeled_tokens = [f\"{token} {label}\" for token, label in zip(tokens, final_labels)]\n",
    "    \n",
    "    return \"\\n\".join(labeled_tokens)\n",
    "\n",
    "\n",
    "\n",
    "# Apply the updated function to the messages in the DataFrame\n",
    "df['Labeled_Message'] = df['Message'].apply(label_message_utf8_with_birr)\n",
    "\n",
    "# Display the updated DataFrame with labeled messages\n",
    "print(df[['Message', 'Labeled_Message']].head())\n"
   ]
  },
  {
   "cell_type": "code",
   "execution_count": 20,
   "metadata": {},
   "outputs": [],
   "source": [
    "# Save the updated labeled dataset to a file in CoNLL format\n",
    "labeled_data_birr_path = 'labeled_telegram_product_price_location.txt-'\n",
    "with open(labeled_data_birr_path, 'w', encoding='utf-8') as f:\n",
    "    for index, row in df.iterrows():\n",
    "        f.write(f\"{row['Labeled_Message']}\\n\\n\")"
   ]
  },
  {
   "cell_type": "markdown",
   "metadata": {},
   "source": []
  },
  {
   "cell_type": "markdown",
   "metadata": {},
   "source": []
  },
  {
   "cell_type": "markdown",
   "metadata": {},
   "source": []
  },
  {
   "cell_type": "code",
   "execution_count": null,
   "metadata": {},
   "outputs": [],
   "source": []
  }
 ],
 "metadata": {
  "kernelspec": {
   "display_name": "myvenv",
   "language": "python",
   "name": "python3"
  },
  "language_info": {
   "codemirror_mode": {
    "name": "ipython",
    "version": 3
   },
   "file_extension": ".py",
   "mimetype": "text/x-python",
   "name": "python",
   "nbconvert_exporter": "python",
   "pygments_lexer": "ipython3",
   "version": "3.12.3"
  }
 },
 "nbformat": 4,
 "nbformat_minor": 2
}
